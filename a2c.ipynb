{
 "cells": [
  {
   "cell_type": "code",
   "execution_count": 1,
   "metadata": {},
   "outputs": [],
   "source": [
    "import torch\n",
    "from torch import nn\n",
    "from torch.distributions import Categorical\n",
    "\n",
    "device = torch.device(\"cuda:0\" if torch.cuda.is_available() else \"cpu\")"
   ]
  },
  {
   "cell_type": "code",
   "execution_count": 2,
   "metadata": {},
   "outputs": [],
   "source": [
    "class Agent(nn.Module):\n",
    "    def __init__(self):\n",
    "        super().__init__()\n",
    "        self.feature_extractor = nn.Sequential(\n",
    "            nn.Conv2d(4, 16, kernel_size=4, stride=2, padding=1),\n",
    "            nn.LeakyReLU(),\n",
    "            nn.Conv2d(16, 32, kernel_size=4, stride=2, padding=1),\n",
    "            nn.LeakyReLU(),\n",
    "            nn.Conv2d(32, 64, kernel_size=4, stride=2, padding=1),\n",
    "            nn.LeakyReLU(),\n",
    "            nn.Conv2d(64, 128, kernel_size=4, stride=2, padding=1),\n",
    "            nn.LeakyReLU(),\n",
    "            nn.Flatten(start_dim=1),\n",
    "        )\n",
    "        self.actor = nn.Sequential(\n",
    "            nn.Linear(7680, 3840),\n",
    "            nn.LeakyReLU(),\n",
    "            nn.Linear(3840, 1920),\n",
    "            nn.LeakyReLU(),\n",
    "            nn.Linear(1920, 960),\n",
    "            nn.LeakyReLU(),\n",
    "            nn.Linear(960, 9),\n",
    "            nn.Softmax(dim=1),\n",
    "        )\n",
    "        self.critic = nn.Sequential(\n",
    "            nn.Linear(7680, 3840),\n",
    "            nn.LeakyReLU(),\n",
    "            nn.Linear(3840, 1920),\n",
    "            nn.LeakyReLU(),\n",
    "            nn.Linear(1920, 960),\n",
    "            nn.LeakyReLU(),\n",
    "            nn.Linear(960, 1),\n",
    "        )\n",
    "\n",
    "    def get_value(self, state):\n",
    "        features = self.feature_extractor(state)\n",
    "        return self.critic(features)\n",
    "\n",
    "    def forward(self, state, action=None):\n",
    "        features = self.feature_extractor(state)\n",
    "        \n",
    "        probabilities = self.actor(features)\n",
    "        distribution = Categorical(probabilities)\n",
    "        \n",
    "        if action == None:\n",
    "            action = distribution.sample()\n",
    "        log_prob = distribution.log_prob(action)\n",
    "        entropy = distribution.entropy()\n",
    "\n",
    "        value = self.critic(features)\n",
    "        return action, log_prob, entropy, value\n",
    "    \n",
    "    def load(self, model_path=\"models/a2c_qwop.pth\"):\n",
    "        self.load_state_dict(torch.load(model_path))\n",
    "        return self\n",
    "\n",
    "    def save(self, model_path=\"models/a2c_qwop.pth\"):\n",
    "        torch.save(self.state_dict(), model_path)\n",
    "        return self\n"
   ]
  },
  {
   "cell_type": "code",
   "execution_count": 3,
   "metadata": {},
   "outputs": [],
   "source": [
    "from qwop_env import QWOP_Env\n",
    "from tqdm import tqdm\n",
    "from collections import deque\n",
    "import numpy as np\n",
    "\n",
    "def state_as_tensor(state):\n",
    "    state = state.astype(np.float32)\n",
    "    state = torch.tensor(state).to(device)\n",
    "    return state\n",
    "\n",
    "def sim(env: QWOP_Env, agent: Agent, max_steps: int):\n",
    "    '''\n",
    "    simulate one episode\n",
    "\n",
    "    returns: (states, log_probs, rewards, values, entropies)\n",
    "    '''\n",
    "    states = []\n",
    "    actions = []\n",
    "    log_probs = []\n",
    "    rewards = []\n",
    "    values = []\n",
    "    entropies = []\n",
    "\n",
    "    state = env.reset()\n",
    "    for _ in range(4): states.append(state_as_tensor(state))\n",
    "\n",
    "    with torch.no_grad():\n",
    "        for step in range(max_steps):\n",
    "            observation = torch.stack(states[step:step+4]).unsqueeze(0)\n",
    "            action, log_prob, entropy, value = agent(observation)\n",
    "\n",
    "            state, reward, done, _ = env.step(action.item())\n",
    "\n",
    "            states.append(state_as_tensor(state))\n",
    "            actions.append(action)\n",
    "            log_probs.append(log_prob)\n",
    "            rewards.append(reward)\n",
    "            values.append(value)\n",
    "            entropies.append(entropy)\n",
    "\n",
    "            if done:\n",
    "                break\n",
    "\n",
    "    return states, actions, log_probs, rewards, values, entropies\n"
   ]
  },
  {
   "cell_type": "code",
   "execution_count": 4,
   "metadata": {},
   "outputs": [],
   "source": [
    "def eval(env, agent):\n",
    "    episode_rewards = []\n",
    "\n",
    "    with torch.no_grad():\n",
    "        pbar = tqdm(range(1000))\n",
    "        for i in pbar:\n",
    "            _, _, _, rewards, _, _, = sim(env, agent, 1000)\n",
    "            \n",
    "            rewards = torch.tensor(rewards).to(device)\n",
    "            episode_rewards.append(rewards.sum().item())\n",
    "\n",
    "    return episode_rewards"
   ]
  },
  {
   "cell_type": "code",
   "execution_count": 5,
   "metadata": {},
   "outputs": [],
   "source": [
    "\n",
    "def train(env: QWOP_Env, agent: Agent, episodes=1000, max_t=1000, gamma=0.9):\n",
    "\n",
    "    clip_coef = 0.1\n",
    "\n",
    "    vl_coef = 0.5 # value loss coefficient\n",
    "    el_coef = 0.01 # entropy loss coefficient\n",
    "\n",
    "    num_updates = 4\n",
    "\n",
    "    episode_rewards = []\n",
    "\n",
    "    optimizer = torch.optim.Adam(agent.parameters(), lr=1e-5)\n",
    "    value_loss_fn = torch.nn.MSELoss()\n",
    "\n",
    "    pbar = tqdm(range(episodes))\n",
    "    for episode in pbar:\n",
    "        # sim one episode\n",
    "        states, actions, log_probs, rewards, values, entropies = sim(env, agent, max_t)\n",
    "        # with torch.no_grad():\n",
    "        #     observation = torch.stack(states[:-4]).unsqueeze(0)\n",
    "        #     _, _, _, value = agent(observation.to(device))\n",
    "        #     values.append(value)\n",
    "        \n",
    "        # convert to tensors\n",
    "        actions = torch.concat(actions)\n",
    "        rewards = torch.tensor(rewards).unsqueeze(1).to(device)\n",
    "        episode_rewards.append(rewards.sum().item())\n",
    "        \n",
    "        log_probs = torch.concat(log_probs)\n",
    "        values = torch.concat(values)\n",
    "        entropies = torch.concat(entropies)\n",
    "\n",
    "        # calculate advantage\n",
    "        returns = torch.zeros_like(values)\n",
    "        for i in range(len(returns)-2, 0, -1):\n",
    "            returns[i - 1] = gamma * returns[i] + rewards[i - 1]\n",
    "\n",
    "        advantage = (returns - values)\n",
    "        advantage = (advantage - advantage.mean()) / (advantage.std() + 1e-10)\n",
    "\n",
    "        indices = torch.arange(len(states) - 4)\n",
    "        states = torch.stack(states)\n",
    "\n",
    "        for update in range(num_updates):\n",
    "            state_tensor = torch.stack([states[indices], states[indices+1], states[indices+2], states[indices+3]]).moveaxis(0, 1)\n",
    "            # print(state_tensor.shape, actions[indices].shape)\n",
    "            _, new_log_probs, entropy, new_value = agent.forward(state_tensor.to(device), actions[indices])\n",
    "            # print(new_value.shape, new_log_probs.shape, values.shape)\n",
    "            # print(probabilities.shape)\n",
    "            # print(log_prob.shape, actions[indices].shape)\n",
    "\n",
    "            # clip log probs ratio\n",
    "            log_probs_ratio = new_log_probs - log_probs\n",
    "            clipped_probs_ratio = torch.clip(log_probs_ratio, 1 - clip_coef, 1 + clip_coef)\n",
    "            policy_loss = - torch.min(log_probs_ratio * advantage, clipped_probs_ratio * advantage).mean()\n",
    "\n",
    "            # clip value loss\n",
    "            clipped_values = values + torch.clip(new_value - values, 1 - clip_coef, 1 + clip_coef)\n",
    "            # print(values.shape, clipped_values.shape)\n",
    "            value_loss = torch.max(value_loss_fn(values, rewards), value_loss_fn(clipped_values, rewards)).mean()\n",
    "\n",
    "            entropy_loss = - entropy.mean()\n",
    "\n",
    "            loss = policy_loss + value_loss * vl_coef + entropy_loss * el_coef\n",
    "            # print(loss)\n",
    "            optimizer.zero_grad()\n",
    "            loss.backward()\n",
    "            nn.utils.clip_grad_norm_(agent.parameters(), 1)\n",
    "            optimizer.step()\n",
    "\n",
    "            pbar.set_postfix({\n",
    "                \"reward\": rewards.sum().item(),\n",
    "                \"loss\": loss.item(), \n",
    "                \"policy_loss\": policy_loss.item(),\n",
    "                \"value_loss\": value_loss.item(),\n",
    "                \"entropy_loss\": entropy_loss.item(),\n",
    "            })\n",
    "\n",
    "        if episode % 10 == 0:\n",
    "            agent.save()\n",
    "            agent.save(\"models/a2c_qwop_backup.pth\")\n",
    "    return episode_rewards\n"
   ]
  },
  {
   "cell_type": "code",
   "execution_count": 6,
   "metadata": {},
   "outputs": [
    {
     "name": "stdout",
     "output_type": "stream",
     "text": [
      "torch.Size([7, 2])\n"
     ]
    },
    {
     "data": {
      "text/plain": [
       "torch.Size([7, 7])"
      ]
     },
     "execution_count": 6,
     "metadata": {},
     "output_type": "execute_result"
    }
   ],
   "source": [
    "x = torch.tensor([[1,1], [2,2], [3,3], [4,4], [5,5], [6,6], [7,7]])\n",
    "print(x.shape)\n",
    "Categorical(logits=x).log_prob(torch.tensor([[0], [1], [0], [1], [0], [1], [0]])).shape"
   ]
  },
  {
   "cell_type": "code",
   "execution_count": 7,
   "metadata": {},
   "outputs": [],
   "source": [
    "import gym\n",
    "\n",
    "class CartPoleAgent(Agent):\n",
    "    def __init__(self):\n",
    "        super().__init__()\n",
    "        self.actor = nn.Sequential(\n",
    "            nn.Flatten(),\n",
    "            nn.Linear(16, 32),\n",
    "            nn.ReLU(),\n",
    "            nn.Linear(32, 2),\n",
    "            nn.Softmax()\n",
    "        )\n",
    "        self.critic = nn.Sequential(\n",
    "            nn.Flatten(),\n",
    "            nn.Linear(16, 32),\n",
    "            nn.ReLU(),\n",
    "            nn.Linear(32, 1)\n",
    "        )\n",
    "\n",
    "env = gym.make('CartPole-v0')\n",
    "agent = CartPoleAgent().to(device)\n",
    "\n",
    "rewards = train(env, agent, episodes=20000)\n",
    "\n",
    "import matplotlib.pyplot as plt\n",
    "\n",
    "plt.plot(rewards)"
   ]
  },
  {
   "cell_type": "code",
   "execution_count": 8,
   "metadata": {},
   "outputs": [],
   "source": [
    "\n",
    "# rewards = train(env, agent, episodes=20000)\n",
    "\n",
    "# import matplotlib.pyplot as plt\n",
    "\n",
    "# plt.plot(rewards)"
   ]
  },
  {
   "cell_type": "code",
   "execution_count": 9,
   "metadata": {},
   "outputs": [],
   "source": [
    "# rewards = eval(env, agent)\n",
    "\n",
    "# import matplotlib.pyplot as plt\n",
    "\n",
    "# plt.plot(rewards)"
   ]
  },
  {
   "cell_type": "code",
   "execution_count": 12,
   "metadata": {},
   "outputs": [
    {
     "name": "stderr",
     "output_type": "stream",
     "text": [
      "100%|██████████| 1000/1000 [1:34:11<00:00,  5.65s/it, reward=1, loss=0.787, policy_loss=0.386, value_loss=0.803, entropy_loss=-4.07e-5]    \n"
     ]
    },
    {
     "data": {
      "text/plain": [
       "[<matplotlib.lines.Line2D at 0x2884ca1ac20>]"
      ]
     },
     "execution_count": 12,
     "metadata": {},
     "output_type": "execute_result"
    },
    {
     "data": {
      "image/png": "[encoded data removed]",
      "text/plain": [
       "<Figure size 640x480 with 1 Axes>"
      ]
     },
     "metadata": {},
     "output_type": "display_data"
    }
   ],
   "source": [
    "agent = Agent().to(device)\n",
    "env = QWOP_Env(headless=True).to(device)\n",
    "\n",
    "rewards = train(env, agent)\n",
    "import matplotlib.pyplot as plt\n",
    "plt.plot(rewards)"
   ]
  }
 ],
 "metadata": {
  "kernelspec": {
   "display_name": "Python 3",
   "language": "python",
   "name": "python3"
  },
  "language_info": {
   "codemirror_mode": {
    "name": "ipython",
    "version": 3
   },
   "file_extension": ".py",
   "mimetype": "text/x-python",
   "name": "python",
   "nbconvert_exporter": "python",
   "pygments_lexer": "ipython3",
   "version": "3.10.5"
  },
  "orig_nbformat": 4
 },
 "nbformat": 4,
 "nbformat_minor": 2
}
